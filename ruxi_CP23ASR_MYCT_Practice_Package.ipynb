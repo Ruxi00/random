{
  "cells": [
    {
      "cell_type": "markdown",
      "metadata": {
        "id": "view-in-github",
        "colab_type": "text"
      },
      "source": [
        "<a href=\"https://colab.research.google.com/github/Ruxi00/random/blob/main/ruxi_CP23ASR_MYCT_Practice_Package.ipynb\" target=\"_parent\"><img src=\"https://colab.research.google.com/assets/colab-badge.svg\" alt=\"Open In Colab\"/></a>"
      ]
    },
    {
      "cell_type": "code",
      "execution_count": null,
      "metadata": {
        "id": "k1A5B5h6S1XA",
        "colab": {
          "base_uri": "https://localhost:8080/"
        },
        "outputId": "72b8a9c3-ad4c-4729-b7b9-acc4bc62bbbe"
      },
      "outputs": [
        {
          "output_type": "stream",
          "name": "stdout",
          "text": [
            "ruixin\n",
            " margaret\n",
            "lol\n"
          ]
        }
      ],
      "source": [
        "names = ['ruixin', 'margaret', 'lol']\n",
        "for i in names:\n",
        "  print(i)"
      ]
    },
    {
      "cell_type": "code",
      "source": [
        "for i in range(5):\n",
        "  print(i)"
      ],
      "metadata": {
        "colab": {
          "base_uri": "https://localhost:8080/"
        },
        "id": "Axi9AXzelPFY",
        "outputId": "353f1d7b-6b95-4931-9f67-6b1731c4b0f7"
      },
      "execution_count": null,
      "outputs": [
        {
          "output_type": "stream",
          "name": "stdout",
          "text": [
            "0\n",
            "1\n",
            "2\n",
            "3\n",
            "4\n"
          ]
        }
      ]
    },
    {
      "cell_type": "markdown",
      "metadata": {
        "id": "C_m0nMH0S2Bf"
      },
      "source": [
        "#CP23ASR MYCT Practice Package\n",
        "\n",
        "Before 27 Jun 2023 (MYCT date), besides passing saving the world projects 1 and 2, students should possess the following baseline competencies:\n",
        "\n",
        "Be able to construct programming solutions involving fundamental constructs (data types, operators, variables, conditional statements, loops and functions) and mainly the following topics:\n",
        "\n"
      ]
    },
    {
      "cell_type": "markdown",
      "metadata": {
        "id": "XHCqG7OgTRt3"
      },
      "source": [
        "**File io (input output)**\n",
        "* flat file (fixed length)\n",
        "* csv file (variable length)"
      ]
    },
    {
      "cell_type": "code",
      "source": [
        "# flat file\n",
        "\n",
        "header = [\"Name\", \"Age\"]  # Define the header names\n",
        "name = [\"Bob\", \"Tom\", \"Jerry\", \"Jesus\", \"\\\"Korean Jesus\\\"\", \"Maple\", \"Lisa\", \"Jack\", \"Moby\", \"Obama\"]  # List of names\n",
        "age = [10, 11, 12, 13, 60, 69, 14, 15, 16, 17, 70]  # List of ages\n",
        "person = dict(zip(name, age))  # Create a dictionary mapping names to ages\n",
        "\n",
        "# Write the data to a flat file\n",
        "with open(\"TEST DATA.txt\", \"w\") as f:\n",
        "    f.write(\",\".join(header) + \"\\n\")  # Write the header row\n",
        "    for name, age in person.items():\n",
        "        f.write(f\"{name},{age}\\n\")  # Write each name and age as a row in the flat file\n",
        "\n",
        "# Append new data to the flat file\n",
        "new_data = [(\"Alice\", 25), (\"John\", 30)]  # New data to be appended\n",
        "with open(\"TEST DATA.txt\", \"a\") as f:\n",
        "    for name, age in new_data:\n",
        "        f.write(f\"{name},{age}\\n\")  # Append each name and age as a row in the flat file\n",
        "\n",
        "read_person = []\n",
        "# Read and output the content of the flat file\n",
        "with open(\"TEST DATA.txt\", \"r\") as f:\n",
        "    read_header = f.readline().strip().split(\",\")  # Read the header row\n",
        "    for line in f:\n",
        "        name, age = line.strip().split(\",\")  # Split each line by comma\n",
        "        read_person.append([name, int(age)])  # Append the name and age as a list to the read_person list\n",
        "\n",
        "print(\"Read headers:\", read_header)\n",
        "print(\"Read person:\", read_person)\n",
        "print()\n",
        "\n",
        "for row in read_person:\n",
        "    print(f\"Person: {row[0]}, Age: {row[1]}\")\n"
      ],
      "metadata": {
        "colab": {
          "base_uri": "https://localhost:8080/"
        },
        "id": "8N06lrSKcu2k",
        "outputId": "4b31f3a6-96c3-4bc3-967a-42bfaf89d094"
      },
      "execution_count": 25,
      "outputs": [
        {
          "output_type": "stream",
          "name": "stdout",
          "text": [
            "Read headers: ['Name', 'Age']\n",
            "Read person: [['Bob', 10], ['Tom', 11], ['Jerry', 12], ['Jesus', 13], ['\"Korean Jesus\"', 60], ['Maple', 69], ['Lisa', 14], ['Jack', 15], ['Moby', 16], ['Obama', 17], ['Alice', 25], ['John', 30]]\n",
            "\n",
            "Person: Bob, Age: 10\n",
            "Person: Tom, Age: 11\n",
            "Person: Jerry, Age: 12\n",
            "Person: Jesus, Age: 13\n",
            "Person: \"Korean Jesus\", Age: 60\n",
            "Person: Maple, Age: 69\n",
            "Person: Lisa, Age: 14\n",
            "Person: Jack, Age: 15\n",
            "Person: Moby, Age: 16\n",
            "Person: Obama, Age: 17\n",
            "Person: Alice, Age: 25\n",
            "Person: John, Age: 30\n"
          ]
        }
      ]
    },
    {
      "cell_type": "code",
      "source": [
        "# csv file\n",
        "\n",
        "import csv\n",
        "\n",
        "header = [\"Name\", \"Age\"]  # Define the header names\n",
        "name = [\"Bob\", \"Tom\", \"Jerry\", \"Jesus\", \"\\\"Korean Jesus\\\"\", \"Maple\", \"Lisa\", \"Jack\", \"Moby\", \"Obama\"]  # List of names\n",
        "age = [10, 11, 12, 13, 60, 69, 14, 15, 16, 17, 70]  # List of ages\n",
        "person = dict(zip(name, age))  # Create a dictionary mapping names to ages\n",
        "\n",
        "# Write the data to a CSV file\n",
        "with open(\"TEST DATA.csv\", \"w\", newline=\"\") as f:\n",
        "    writer = csv.writer(f)\n",
        "    writer.writerow(header)  # Write the header row\n",
        "    for name, age in person.items():\n",
        "        writer.writerow([name, age])  # Write each name and age as a row in the CSV\n",
        "\n",
        "# Append new data to the CSV file\n",
        "new_data = [(\"Alice\", 25), (\"John\", 30)]  # New data to be appended\n",
        "with open(\"TEST DATA.csv\", \"a\", newline=\"\") as f:\n",
        "    writer = csv.writer(f)\n",
        "    for name, age in new_data:\n",
        "        writer.writerow([name, age])  # Append each name and age as a row in the CSV\n",
        "\n",
        "# Read and output the content of the CSV file\n",
        "with open(\"TEST DATA.csv\", \"r\", newline=\"\") as f:\n",
        "    reader = csv.reader(f)\n",
        "    read_header = next(reader)  # Read the header row\n",
        "    read_person = list(reader)  # Read the remaining rows\n",
        "\n",
        "print(\"Read headers:\", read_header)\n",
        "print(\"Read person:\", read_person)\n",
        "print()\n",
        "\n",
        "for row in read_person:\n",
        "    print(f\"Person: {row[0]}, Age: {row[1]}\")\n"
      ],
      "metadata": {
        "colab": {
          "base_uri": "https://localhost:8080/"
        },
        "id": "rbrJBucDSVnN",
        "outputId": "e36a2478-19f7-4556-b8b5-74e4297143c2"
      },
      "execution_count": 26,
      "outputs": [
        {
          "output_type": "stream",
          "name": "stdout",
          "text": [
            "Read headers: ['Name', 'Age']\n",
            "Read person: [['Bob', '10'], ['Tom', '11'], ['Jerry', '12'], ['Jesus', '13'], ['\"Korean Jesus\"', '60'], ['Maple', '69'], ['Lisa', '14'], ['Jack', '15'], ['Moby', '16'], ['Obama', '17'], ['Alice', '25'], ['John', '30']]\n",
            "\n",
            "Person: Bob, Age: 10\n",
            "Person: Tom, Age: 11\n",
            "Person: Jerry, Age: 12\n",
            "Person: Jesus, Age: 13\n",
            "Person: \"Korean Jesus\", Age: 60\n",
            "Person: Maple, Age: 69\n",
            "Person: Lisa, Age: 14\n",
            "Person: Jack, Age: 15\n",
            "Person: Moby, Age: 16\n",
            "Person: Obama, Age: 17\n",
            "Person: Alice, Age: 25\n",
            "Person: John, Age: 30\n"
          ]
        }
      ]
    },
    {
      "cell_type": "code",
      "source": [
        "# flat file\n",
        "\n",
        "file1 = open(\"myfile.txt\", \"w\")\n",
        "L = [\"This is pioneer \\n\", \"This is boonlay \\n\", \"This is lakeside \\n\"]\n",
        "file1.writelines(L)\n",
        "file1.close()\n",
        "\n",
        "# append\n",
        "file1 = open(\"myfile.txt\", \"a\")\n",
        "file1.write(\"This is chinese garden \\n\")\n",
        "file1.close()\n",
        "\n",
        "# read and output content\n",
        "file1 = open(\"myfile.txt\", \"r\")\n",
        "print(\"Output of readilnes after appending\")\n",
        "print(file1.read())\n",
        "print()\n",
        "file1.close()\n",
        "\n",
        "# write\n",
        "file1 = open(\"myfile.txt\", \"w\")\n",
        "file1.write(\"You just got overwritten \\n\")\n",
        "file1.close()\n",
        "\n",
        "# print final\n",
        "file1 = open(\"myfile.txt\", \"r\")\n",
        "print(\"Output of readlines after write mode\")\n",
        "print(file1.read())\n",
        "print()\n",
        "file1.close()"
      ],
      "metadata": {
        "colab": {
          "base_uri": "https://localhost:8080/"
        },
        "id": "SgwWI2GSlS7O",
        "outputId": "cdb87b78-65cd-4350-f010-6444a765f6ae"
      },
      "execution_count": 27,
      "outputs": [
        {
          "output_type": "stream",
          "name": "stdout",
          "text": [
            "Output of readilnes after appending\n",
            "This is pioneer \n",
            "This is boonlay \n",
            "This is lakeside \n",
            "This is chinese garden \n",
            "\n",
            "\n",
            "Output of readlines after write mode\n",
            "You just got overwritten \n",
            "\n",
            "\n"
          ]
        }
      ]
    },
    {
      "cell_type": "markdown",
      "source": [
        "# New section"
      ],
      "metadata": {
        "id": "X0VcIkRDX82a"
      }
    },
    {
      "cell_type": "code",
      "source": [],
      "metadata": {
        "id": "pxY-jcK_SVuX"
      },
      "execution_count": null,
      "outputs": []
    },
    {
      "cell_type": "markdown",
      "metadata": {
        "id": "0Nr3sw8nURCs"
      },
      "source": [
        "**Data validation techniques**\n",
        "* presence check\n",
        "* length check\n",
        "* data type check\n",
        "* format check\n",
        "* range check\n",
        "* existence check\n",
        "* check digit"
      ]
    },
    {
      "cell_type": "code",
      "source": [
        "nrics = ['T0427194C',  'T0573917E', 'T0613948A']\n",
        "\n",
        "valid_nric = False\n",
        "while not valid_nric:\n",
        "  nric = input(\"Enter nric: \")\n",
        "  if nric == \" \": # presence check\n",
        "    print(\"Empty input\")\n",
        "  elif len(nric) != 9: # length check\n",
        "    print(\"invalid NRIC length\")\n",
        "  elif not nric[0].isalpha() and nric[-1].isalpha() and nric[1:-1].isdigit(): # format / data type check\n",
        "    print(\"invalid\")\n",
        "  elif not 4 <= int(nric[1:3]) <=6 : # range check\n",
        "    print(\"invalid NRIC range\")\n",
        "  elif not nric in nrics: # existence check\n",
        "    print(\"NRIC not found\")\n",
        "  else:\n",
        "      valid_nric = True\n",
        "\n",
        "print(\"nric is valid\")"
      ],
      "metadata": {
        "colab": {
          "base_uri": "https://localhost:8080/"
        },
        "id": "h6nBr69T9P89",
        "outputId": "6b39b078-8f05-4c46-840d-bd92ba79dbfb"
      },
      "execution_count": null,
      "outputs": [
        {
          "output_type": "stream",
          "name": "stdout",
          "text": [
            "Enter nric: T0573917E\n",
            "nric is valid\n"
          ]
        }
      ]
    },
    {
      "cell_type": "code",
      "source": [
        "# existence check\n",
        "def generate_check_alphabet(nric):\n",
        "    weights = [2, 7, 6, 5, 4, 3, 2]\n",
        "    checks = ['J', 'Z', 'I', 'H', 'G', 'F', 'E', 'D', 'C', 'B', 'A']\n",
        "\n",
        "    total = 0\n",
        "    for i in range(len(weights)):\n",
        "        total += int(nric[i+1]) * weights[i]\n",
        "\n",
        "    if nric[0] == 'T':\n",
        "        total += 4\n",
        "\n",
        "    remainder = total % 11\n",
        "    return checks[remainder]\n",
        "\n",
        "\n",
        "def is_valid_nric(nric):\n",
        "    return nric[-1] == generate_check_alphabet(nric)\n",
        "\n",
        "\n",
        "# main\n",
        "snric = input(\"Enter NRIC: \")\n",
        "print(is_valid_nric(snric))\n"
      ],
      "metadata": {
        "colab": {
          "base_uri": "https://localhost:8080/"
        },
        "id": "ATXh0hP0gLzd",
        "outputId": "32e95e1f-632b-4c82-cdc4-e964891052d2"
      },
      "execution_count": null,
      "outputs": [
        {
          "output_type": "stream",
          "name": "stdout",
          "text": [
            "Enter NRIC: T0613830B\n",
            "True\n"
          ]
        }
      ]
    },
    {
      "cell_type": "markdown",
      "metadata": {
        "id": "HdU0w-6sUcz1"
      },
      "source": [
        "**Types of errors**\n",
        "* syntax: violate rules of programming language\n",
        "* logic: intent implemented wrongly\n",
        "* runtime: unexpected program output"
      ]
    },
    {
      "cell_type": "code",
      "execution_count": null,
      "metadata": {
        "id": "aIObf7ebUiwk",
        "colab": {
          "base_uri": "https://localhost:8080/"
        },
        "outputId": "4a9835f9-0c10-4159-88f7-ab50e36b09f9"
      },
      "outputs": [
        {
          "output_type": "stream",
          "name": "stdout",
          "text": [
            "Hello\n",
            "0\n",
            "1\n",
            "2\n"
          ]
        }
      ],
      "source": [
        "# syntax error\n",
        "print(\"Hello\")\n",
        "# or\n",
        "for i in range(3)\n",
        "  print(i)"
      ]
    },
    {
      "cell_type": "code",
      "source": [
        "#logic error\n",
        "import math\n",
        "radius = 5\n",
        "area = math.pi * radius * 2 #should be **\n",
        "print(area)"
      ],
      "metadata": {
        "colab": {
          "base_uri": "https://localhost:8080/"
        },
        "id": "IVoagpq580hT",
        "outputId": "274428d0-483c-4a3f-b793-b77a2a5699ed"
      },
      "execution_count": null,
      "outputs": [
        {
          "output_type": "stream",
          "name": "stdout",
          "text": [
            "31.41592653589793\n"
          ]
        }
      ]
    },
    {
      "cell_type": "code",
      "source": [
        "#runtime error\n",
        "# Runtime Error\n",
        "number = int(input(\"Enter a number: \"))\n",
        "result = 10 / number  # ZeroDivisionError if user enters 0\n",
        "print(\"The result is:\", result)"
      ],
      "metadata": {
        "colab": {
          "base_uri": "https://localhost:8080/",
          "height": 276
        },
        "id": "rwhGNGpN6VaZ",
        "outputId": "da79f7a4-a56a-465b-a03c-9df002c50ec9"
      },
      "execution_count": null,
      "outputs": [
        {
          "name": "stdout",
          "output_type": "stream",
          "text": [
            "Enter a number: 0\n"
          ]
        },
        {
          "output_type": "error",
          "ename": "ZeroDivisionError",
          "evalue": "ignored",
          "traceback": [
            "\u001b[0;31m---------------------------------------------------------------------------\u001b[0m",
            "\u001b[0;31mZeroDivisionError\u001b[0m                         Traceback (most recent call last)",
            "\u001b[0;32m<ipython-input-2-6ad76e26bb0e>\u001b[0m in \u001b[0;36m<cell line: 4>\u001b[0;34m()\u001b[0m\n\u001b[1;32m      2\u001b[0m \u001b[0;31m# Runtime Error\u001b[0m\u001b[0;34m\u001b[0m\u001b[0;34m\u001b[0m\u001b[0m\n\u001b[1;32m      3\u001b[0m \u001b[0mnumber\u001b[0m \u001b[0;34m=\u001b[0m \u001b[0mint\u001b[0m\u001b[0;34m(\u001b[0m\u001b[0minput\u001b[0m\u001b[0;34m(\u001b[0m\u001b[0;34m\"Enter a number: \"\u001b[0m\u001b[0;34m)\u001b[0m\u001b[0;34m)\u001b[0m\u001b[0;34m\u001b[0m\u001b[0;34m\u001b[0m\u001b[0m\n\u001b[0;32m----> 4\u001b[0;31m \u001b[0mresult\u001b[0m \u001b[0;34m=\u001b[0m \u001b[0;36m10\u001b[0m \u001b[0;34m/\u001b[0m \u001b[0mnumber\u001b[0m  \u001b[0;31m# ZeroDivisionError if user enters 0\u001b[0m\u001b[0;34m\u001b[0m\u001b[0;34m\u001b[0m\u001b[0m\n\u001b[0m\u001b[1;32m      5\u001b[0m \u001b[0mprint\u001b[0m\u001b[0;34m(\u001b[0m\u001b[0;34m\"The result is:\"\u001b[0m\u001b[0;34m,\u001b[0m \u001b[0mresult\u001b[0m\u001b[0;34m)\u001b[0m\u001b[0;34m\u001b[0m\u001b[0;34m\u001b[0m\u001b[0m\n",
            "\u001b[0;31mZeroDivisionError\u001b[0m: division by zero"
          ]
        }
      ]
    },
    {
      "cell_type": "markdown",
      "metadata": {
        "id": "l3q6y2E4UjYa"
      },
      "source": [
        "**Testing techniques**\n",
        "* normal data\n",
        " * Test with typical, expected input data\n",
        " * Verify that the system behaves correctly with valid input.\n",
        " * Focus on testing common paths and functionalities.\n",
        "* erroneous data\n",
        " * Test with invalid or unexpected input data\n",
        " * Include test cases where input is missing, incorrect, or violates constraints.\n",
        " * Verify that appropriate error handling and error messages\n",
        "* boundary data\n",
        " * Test at the boundaries of input ranges or system limits.\n",
        " * Include cases at lower and upper limits, just below, at, and just above the boundaries.\n",
        " * verify that the system handles edge cases correctly.\n"
      ]
    },
    {
      "cell_type": "code",
      "execution_count": null,
      "metadata": {
        "id": "qWW4EZVXUoY-",
        "colab": {
          "base_uri": "https://localhost:8080/"
        },
        "outputId": "ef953a33-7697-4d8d-a7cc-6683104943db"
      },
      "outputs": [
        {
          "output_type": "stream",
          "name": "stdout",
          "text": [
            "Enter age (16-19): abc\n",
            "erroneous data\n",
            "Enter age (16-19):   \n",
            "erroneous data\n",
            "Enter age (16-19): 16\n",
            "lower boundary \n",
            "Enter age (16-19): 19\n",
            "upper boundary\n",
            "Enter age (16-19): 17\n",
            "normal data\n"
          ]
        }
      ],
      "source": [
        "while True:\n",
        "  age = input(\"Enter age (16-19): \")\n",
        "\n",
        "  try:\n",
        "    age = int(age)\n",
        "    # boundary eg 15, 16, 19, 20\n",
        "    if age == 16:\n",
        "      print(\"lower boundary \")\n",
        "    elif age == 19:\n",
        "      print(\"upper boundary\")\n",
        "    # normal eg 17\n",
        "    elif 16 <= age <= 19:\n",
        "      print(\"normal data\")\n",
        "      break\n",
        "    # erroneous eg 12,\n",
        "    else:\n",
        "      print(\"erroneous data\")\n",
        "  except ValueError:\n",
        "    print(\"erroneous data\")"
      ]
    },
    {
      "cell_type": "markdown",
      "metadata": {
        "id": "NEWonktCUsFa"
      },
      "source": [
        "**Searching & Sorting Algorithms**\n",
        "Be able to produce the searching and sorting algorithms each in under 5 min\n",
        "\n",
        "* linear search\n",
        "* binary search (iterative and recursive)\n",
        "* bubble sort (non-optimised and optimised)\n",
        "* insertion sort\n",
        "* quick sort\n",
        "* merge sort"
      ]
    },
    {
      "cell_type": "code",
      "execution_count": null,
      "metadata": {
        "id": "qIaFQL7uUyKO",
        "colab": {
          "base_uri": "https://localhost:8080/"
        },
        "outputId": "f644b3f7-9f0d-4ac5-fe0f-5a70e37830e9"
      },
      "outputs": [
        {
          "output_type": "stream",
          "name": "stdout",
          "text": [
            "3\n",
            "-1\n"
          ]
        }
      ],
      "source": [
        "# linear search (for) (finding FIRST occurence)\n",
        "def linear_search(A, target):\n",
        "  for i in range(len(A)):\n",
        "    if A[i] == target: # found\n",
        "      return i\n",
        "    # sorted list\n",
        "    # elif A[i] > target:\n",
        "    #   return -1\n",
        "  return -1 # not found\n",
        "\n",
        "# main\n",
        "data = [6, 2, 5, 1, 7]\n",
        "print(linear_search(data, 1)) # success\n",
        "print(linear_search(data, 4)) # failure"
      ]
    },
    {
      "cell_type": "code",
      "source": [
        "# linear search (for) (finding LAST occurence)\n",
        "def linear_search(A, target):\n",
        "  for i in range(len(A)-1, -1, -1): # len(A)-1 = start point of lopop , -1 = end point, -1 = step size\n",
        "    if A[i] == target: # found\n",
        "      return i\n",
        "    # sorted list\n",
        "    # elif A[i] > target:\n",
        "    #   return -1\n",
        "  return -1 # not found\n",
        "\n",
        "# main\n",
        "data = [6, 2, 5, 1, 7, 7]\n",
        "print(linear_search(data, 7)) # success\n",
        "print(linear_search(data, 4)) # failure"
      ],
      "metadata": {
        "colab": {
          "base_uri": "https://localhost:8080/"
        },
        "id": "j8QMxF-Cdaz4",
        "outputId": "e53c5634-05a7-4077-e850-ba467dfb80fd"
      },
      "execution_count": null,
      "outputs": [
        {
          "output_type": "stream",
          "name": "stdout",
          "text": [
            "5\n",
            "-1\n"
          ]
        }
      ]
    },
    {
      "cell_type": "code",
      "source": [
        "# linear search (duplicates-find all occurences)\n",
        "def linear_search(A, target):\n",
        "  result = []\n",
        "  for i in range(len(A)):\n",
        "    if A[i] == target:\n",
        "      result.append(i)\n",
        "  if result != []: # len(result) == 0\n",
        "    return result\n",
        "  return -1\n",
        "\n",
        "# main\n",
        "data = [1, 2, 5, 2, 8, 8]\n",
        "print(linear_search(data, 2)) # success return [1, 3]\n",
        "print(linear_search(data, 7)) # failure return -1"
      ],
      "metadata": {
        "colab": {
          "base_uri": "https://localhost:8080/"
        },
        "id": "cnsxxwiBgZfU",
        "outputId": "487a7fc3-4024-47d3-f137-473eefe62835"
      },
      "execution_count": null,
      "outputs": [
        {
          "output_type": "stream",
          "name": "stdout",
          "text": [
            "[1, 3]\n",
            "-1\n"
          ]
        }
      ]
    },
    {
      "cell_type": "code",
      "source": [
        "# linear search (while)\n",
        "def linear_search(A, target):\n",
        "  i = 0\n",
        "  while i < len(A):\n",
        "    if A[i] == target: # found\n",
        "      return i\n",
        "    i += 1\n",
        "  return \"not found\" # not found\n",
        "\n",
        "# main\n",
        "data = [6, 2, 5, 1, 7]\n",
        "print(linear_search(data, 1)) # success\n",
        "print(linear_search(data, 4)) # failure"
      ],
      "metadata": {
        "id": "CceNUGb6SpmD"
      },
      "execution_count": null,
      "outputs": []
    },
    {
      "cell_type": "code",
      "source": [
        "# binary search iterative (logarithmic) O(lg n)\n",
        "def binary_search(A, target):\n",
        "  low = 0 # start index\n",
        "  high = len(A) - 1 # end index\n",
        "  while low <= high: # no more items to search\n",
        "    mid = (low + high) // 2 # find middle position\n",
        "    if A[mid] == target: # found\n",
        "      return mid # success\n",
        "    elif A[mid] > target: # target in left half\n",
        "      high = mid - 1 # new high is num before mid\n",
        "    else: # A[mid] < target, ie target in right half\n",
        "      low = mid + 1 # new low is num after mid\n",
        "  return \"not found\"\n",
        "\n",
        "# main\n",
        "A = [1, 2, 3, 5, 6, 7, 9, 10]\n",
        "print(binary_search(A, 7)) # success return 5\n",
        "print(binary_search(A, 8)) # failure return not found"
      ],
      "metadata": {
        "id": "Xd0ycCZUgrep",
        "colab": {
          "base_uri": "https://localhost:8080/"
        },
        "outputId": "b53b12b6-e876-460a-fd0d-aea68eb75448"
      },
      "execution_count": null,
      "outputs": [
        {
          "output_type": "stream",
          "name": "stdout",
          "text": [
            "5\n",
            "not found\n"
          ]
        }
      ]
    },
    {
      "cell_type": "code",
      "source": [
        "# Binary search (recursive)\n",
        "def binary_searchr(A, target, low, high):\n",
        "  if low > high: # no more items\n",
        "    return -1 # not found, terminating case 1\n",
        "  else:\n",
        "    mid = (low + high) // 2\n",
        "    if A[mid] == target: # found\n",
        "      return mid # terminating case 2\n",
        "    elif target < A[mid]: # left half\n",
        "      return binary_searchr(A, target, low, mid-1)\n",
        "    else: # target > A[mid], # right half\n",
        "      return binary_searchr(A, target, mid+1, high)\n",
        "\n",
        "# main\n",
        "data = [6, 8, 10, 13, 17]\n",
        "print(binary_searchr(data, 13, 0, len(data)-1)) # success\n",
        "print(binary_searchr(data, 11, 0, len(data)-1)) # fail"
      ],
      "metadata": {
        "colab": {
          "base_uri": "https://localhost:8080/"
        },
        "id": "3HeeyGjbvjUi",
        "outputId": "a19641fa-da65-4b20-cea1-2148d65d2fe0"
      },
      "execution_count": null,
      "outputs": [
        {
          "output_type": "stream",
          "name": "stdout",
          "text": [
            "5\n",
            "-1\n"
          ]
        }
      ]
    },
    {
      "cell_type": "code",
      "source": [
        "# bubble sort (non-optimised) O(n^2) - quadratic\n",
        "def bubble_sort(A):\n",
        "    n = len(A)\n",
        "    for i in range(n):\n",
        "        for j in range(n-1):\n",
        "            # print(A[j], A[j+1])\n",
        "            if A[j] > A[j+1]:\n",
        "                A[j], A[j+1] = A[j+1], A[j]\n",
        "    return A\n",
        "\n",
        "#data = [4, 7, 1, 5, 2, 8, 3]\n",
        "data = [1, 2, 3, 5, 4, 7, 6]\n",
        "print(bubble_sort(data))"
      ],
      "metadata": {
        "colab": {
          "base_uri": "https://localhost:8080/"
        },
        "id": "1Dgr-9255KT_",
        "outputId": "5b12aab3-117f-43ec-ec0e-e986c6c3e477"
      },
      "execution_count": null,
      "outputs": [
        {
          "output_type": "stream",
          "name": "stdout",
          "text": [
            "Original list: [3, 6, 8, 9, 2, 1, 7, 5]\n",
            "Bubble sort: [1, 2, 3, 5, 6, 7, 8, 9]\n"
          ]
        }
      ]
    },
    {
      "cell_type": "code",
      "source": [
        "# bubble sort optimised\n",
        "def bubble_sort(A):\n",
        "    n = len(A)\n",
        "    for i in range(n):\n",
        "        swapped = False # assume sorted\n",
        "        for j in range(n-1): # n-1 pairs\n",
        "            # print(A[j], A[j+1])\n",
        "            if A[j] > A[j+1]: # not in order\n",
        "                A[j], A[j+1] = A[j+1], A[j] # swap\n",
        "                swapped = True # not sorted in this pass\n",
        "        if not swapped: # no swap in previous pass\n",
        "            break # early exit\n",
        "        n -= 1 # last item sorted\n",
        "    return A\n",
        "\n",
        "# main\n",
        "data = [4, 7, 1, 5, 2, 8, 3]\n",
        "#data = [1, 2, 3, 5, 4, 7, 6]\n",
        "print(bubble_sort(data))"
      ],
      "metadata": {
        "id": "pw6BcZb1i5Po"
      },
      "execution_count": null,
      "outputs": []
    },
    {
      "cell_type": "code",
      "source": [
        "# insertion sort\n",
        "\n",
        "def insertion_sort(A):\n",
        "    for i in range(1, len(A)):\n",
        "        temp = A[i]\n",
        "        j = i - 1\n",
        "        while j >= 0 and temp < A[j]:\n",
        "            A[j + 1] = A[j]\n",
        "            j -= 1\n",
        "        A[j + 1] = temp\n",
        "    return A\n",
        "\n",
        "# main\n",
        "data = [4, 7, 1, 5, 2, 8, 3]\n",
        "print(insertion_sort(data))"
      ],
      "metadata": {
        "colab": {
          "base_uri": "https://localhost:8080/"
        },
        "id": "PszE9hFmi8M1",
        "outputId": "a766f3d6-fc22-496c-ceca-2140855bb28c"
      },
      "execution_count": null,
      "outputs": [
        {
          "output_type": "stream",
          "name": "stdout",
          "text": [
            "[1, 2, 3, 4, 5, 7, 8]\n"
          ]
        }
      ]
    },
    {
      "cell_type": "code",
      "source": [
        "# quick sort\n",
        "\n",
        "def quicksort(A):\n",
        "    if len(A) <= 1: # terminating cases (0 or 1 item)\n",
        "        return A\n",
        "\n",
        "    pivot = A[len(A) // 2] # midpoint\n",
        "    left = [] # items less than pivot\n",
        "    right = [] # items more than pivot\n",
        "\n",
        "    for element in A:\n",
        "        if element < pivot:\n",
        "            left.append(element)\n",
        "        elif element > pivot:\n",
        "            right.append(element)\n",
        "\n",
        "    return quicksort(left) + [pivot] + quicksort(right) # recursive cases\n",
        "\n",
        "# main\n",
        "data = [4, 7, 1, 5, 2, 8, 3]\n",
        "print(quicksort(data))"
      ],
      "metadata": {
        "id": "NmS9P-ZYi-A6"
      },
      "execution_count": null,
      "outputs": []
    },
    {
      "cell_type": "code",
      "source": [
        "# merge sort (linearithmic) O(n lg n)\n",
        "\n",
        "def merge_sort(A):\n",
        "    if len(A) <= 1: # terminating cases (0 or 1 item)\n",
        "        return A\n",
        "\n",
        "    mid = len(A) // 2 # midpoint\n",
        "    left_half = A[:mid] # split left half\n",
        "    right_half = A[mid:] # split right half\n",
        "\n",
        "    left_half = merge_sort(left_half) # recursive calls\n",
        "    right_half = merge_sort(right_half)\n",
        "\n",
        "    return merge(left_half, right_half) # combine sorted items\n",
        "\n",
        "def merge(left_half, right_half):\n",
        "    i = j = 0 # two array indices\n",
        "    merged_list = [] # resultant combined array\n",
        "    while i < len(left_half) and j < len(right_half): # both not empty\n",
        "        if left_half[i] < right_half[j]: # left item smaller\n",
        "            merged_list.append(left_half[i]) # add to result\n",
        "            i += 1 # next left item\n",
        "        else: # right item smaller\n",
        "            merged_list.append(right_half[j]) # add to result\n",
        "            j += 1 # next right item\n",
        "\n",
        "    merged_list += left_half[i:] # if there are still items in left half, add all to merged list\n",
        "    merged_list += right_half[j:] # if there are still items in right half, add all to merged list\n",
        "\n",
        "    return merged_list\n",
        "\n",
        "# main\n",
        "data = [4, 7, 1, 5, 2, 8, 3]\n",
        "print(merge_sort(data))"
      ],
      "metadata": {
        "colab": {
          "base_uri": "https://localhost:8080/"
        },
        "id": "WvIW19eki_ZC",
        "outputId": "0002634e-4b8c-4653-ea56-831deca9084f"
      },
      "execution_count": null,
      "outputs": [
        {
          "output_type": "stream",
          "name": "stdout",
          "text": [
            "Merge sort: [1, 2, 3, 5, 6, 7, 8, 9]\n"
          ]
        }
      ]
    },
    {
      "cell_type": "markdown",
      "metadata": {
        "id": "Nv9qMWUdTXKS"
      },
      "source": [
        "**OOP (Object-oriented programming)**\n",
        "* UML class diagram (theory)\n",
        "* class vs object\n",
        "* encapsulation\n",
        "* inheritance\n",
        "* polymorphism"
      ]
    },
    {
      "cell_type": "code",
      "execution_count": null,
      "metadata": {
        "id": "0m_JWLEiTdA1",
        "colab": {
          "base_uri": "https://localhost:8080/"
        },
        "outputId": "ba4e1567-2cc3-4ae8-9929-fa837300f064"
      },
      "outputs": [
        {
          "output_type": "stream",
          "name": "stdout",
          "text": [
            "Hi, my name is John and I'm 25 years old.\n",
            "\n",
            "Hi, my name is ruixin and I'm 17 years old.\n",
            "I am a student with ID S001.\n",
            "\n",
            "Hi, my name is Mr Gi and I'm 35 years old.\n",
            "I am a teacher with ID T001.\n",
            "\n",
            "ruixin is studying Math.\n",
            "Mr Gi is teaching Computing.\n"
          ]
        }
      ],
      "source": [
        "# UML class diagram (theory)\n",
        "# The class diagram is a visual representation of the classes, relationships, and structure of a system.\n",
        "\n",
        "# Class vs Object\n",
        "# A class is a blueprint or template that defines the characteristics and behaviors of an object.\n",
        "# An object is an instance of a class, representing a specific entity with its own state and behavior.\n",
        "# Class = \"person\", \"student\", \"teacher\"\n",
        "# Object = \"person1\", student1\", teacher1\"\n",
        "\n",
        "# Encapsulation\n",
        "# Encapsulation is the bundling of data and methods (or functions) that manipulate the data, into a single unit called a class.\n",
        "# It provides data hiding and access control mechanisms to protect the data from external interference.\n",
        "\n",
        "class Person:\n",
        "    def __init__(self, name, age):\n",
        "        self.name = name\n",
        "        self.age = age\n",
        "\n",
        "    def introduce(self):\n",
        "        print(f\"Hi, my name is {self.name} and I'm {self.age} years old.\")\n",
        "\n",
        "\n",
        "# Inheritance\n",
        "# Inheritance allows a class to inherit attributes and behaviors from another class, known as the superclass or base class.\n",
        "# The class that inherits from the superclass is called a subclass or derived class.\n",
        "\n",
        "class Student(Person): # student subclass of person\n",
        "    def __init__(self, name, age, student_id):\n",
        "        super().__init__(name, age) # initialising the inherited attributes 'name'and 'age'\n",
        "        self.student_id = student_id\n",
        "\n",
        "    def study(self, subject):\n",
        "        print(f\"{self.name} is studying {subject}.\")\n",
        "\n",
        "    def introduce(self):\n",
        "        super().introduce()\n",
        "        print(f\"I am a student with ID {self.student_id}.\")\n",
        "\n",
        "\n",
        "class Teacher(Person):\n",
        "    def __init__(self, name, age, teacher_id):\n",
        "        super().__init__(name, age)\n",
        "        self.teacher_id = teacher_id\n",
        "\n",
        "    def teach(self, subject):\n",
        "        print(f\"{self.name} is teaching {subject}.\")\n",
        "\n",
        "    def introduce(self):\n",
        "        super().introduce()\n",
        "        print(f\"I am a teacher with ID {self.teacher_id}.\")\n",
        "\n",
        "\n",
        "# Polymorphism\n",
        "# Polymorphism allows objects of different classes to be treated as objects of a common superclass.\n",
        "# It enables methods with the same name to be invoked on different objects, resulting in different behaviors.\n",
        "\n",
        "def introduce_people(people):\n",
        "    for person in people:\n",
        "        person.introduce() # introduce each person\n",
        "        print() # print empty line\n",
        "\n",
        "\n",
        "# Usage of the defined classes and functions\n",
        "\n",
        "# Creating person objects\n",
        "person1 = Person(\"John\", 25)\n",
        "student1 = Student(\"ruixin\", 17, \"S001\")\n",
        "teacher1 = Teacher(\"Mr Gi\", 35, \"T001\")\n",
        "\n",
        "# Introducing people\n",
        "people = [person1, student1, teacher1]\n",
        "introduce_people(people)\n",
        "\n",
        "# Polymorphic behavior\n",
        "student1.study(\"Math\")\n",
        "teacher1.teach(\"Computing\")\n"
      ]
    },
    {
      "cell_type": "code",
      "source": [
        "class Person: # parent / super class\n",
        "  def __init__(self, pname, page):\n",
        "    self.name = pname\n",
        "    self.age = page\n",
        "\n",
        "  def get_name(self):\n",
        "    return self.name\n",
        "\n",
        "  def get_age(self):\n",
        "    return self.age\n",
        "\n",
        "  def set_age(self, new_age):\n",
        "    self.age = new_age\n",
        "\n",
        "  def display(self):\n",
        "    print(self.name)\n",
        "    print(self.age)\n",
        "\n",
        "class Student(Person): #child/ sub class\n",
        "  def __init__(self, pname, page, scca):\n",
        "    #dun do this: self.name = pname\n",
        "    #dun do this: self.age = page\n",
        "    super().__init__(pname, page)\n",
        "    self.cca = scca\n",
        "\n",
        "  def get_cca(self):\n",
        "    return self.cca\n",
        "\n",
        "  def display(self):\n",
        "    #dont print(self.name) and (self.age)\n",
        "    super().display() # print the name and age\n",
        "    print(self.cca)\n",
        "\n",
        "class Staff(Person):\n",
        "  def __init__(self, pname, page, sdept):\n",
        "    super().__init__(pname, page)\n",
        "    self.dept = sdept\n",
        "\n",
        "  def get_dept(self):\n",
        "    return self.dept\n",
        "\n",
        "  def display(self):\n",
        "    #dont print(self.name) and (self.age)\n",
        "    super().display()\n",
        "    print(self.dept)\n",
        "\n",
        "#main\n",
        "mrsitt = Person(\"Husband\", 18)\n",
        "mscheong = Person(\"Wife\", 15)\n",
        "mrneo = Student(\"Son\", 14, \"Visual Art\")\n",
        "mrgi = Staff(\"Teacher\", 120, \"math\")\n",
        "#(mscheong.name, mscheong.age) #not proper way to access data\n",
        "#print(mscheong.get_name(), mscheong.get_age())\n",
        "#mscheong.set_age(16)\n",
        "#print(mscheong.get_age())\n",
        "#msneo.display()\n",
        "#mrgi.display()\n",
        "people = [mrsitt, mscheong, mrneo, mrgi]\n",
        "for person in people: #polymorphism\n",
        "  person.display()\n"
      ],
      "metadata": {
        "colab": {
          "base_uri": "https://localhost:8080/"
        },
        "id": "NtA5FmrGGDDV",
        "outputId": "60c196ec-342c-46a1-b41f-614d9743b66c"
      },
      "execution_count": null,
      "outputs": [
        {
          "output_type": "stream",
          "name": "stdout",
          "text": [
            "Husband\n",
            "18\n",
            "Wife\n",
            "15\n",
            "Son\n",
            "14\n",
            "Visual Art\n",
            "Teacher\n",
            "120\n",
            "math\n"
          ]
        }
      ]
    },
    {
      "cell_type": "markdown",
      "metadata": {
        "id": "4FS4WjaEUyqB"
      },
      "source": [
        "**Data Structures**\n",
        "as well as the following data structures and their associated common operations\n",
        "\n",
        "* array\n",
        "* dictionary\n",
        "* hash table (alt to search)\n",
        "* linked list\n",
        "* stack\n",
        "* queue\n",
        "* binary search tree*\n",
        "\n",
        "*For theory, knowledge and understanding of binary tree is expected."
      ]
    },
    {
      "cell_type": "code",
      "execution_count": null,
      "metadata": {
        "id": "d4s50Qx1VC2Q"
      },
      "outputs": [],
      "source": [
        "array = []\n",
        "dict = {}"
      ]
    },
    {
      "cell_type": "code",
      "source": [
        "# hash table\n",
        "\n",
        "class HashTable:\n",
        "    def __init__(self, size):\n",
        "        self.size = size\n",
        "        self.table = [[] for _ in range(size)]\n",
        "\n",
        "    def hash_function(self, key):\n",
        "        return hash(key) % self.size\n",
        "\n",
        "    def insert(self, key, value):\n",
        "        index = self.hash_function(key)\n",
        "        self.table[index].append((key, value))\n",
        "\n",
        "    def get(self, key):\n",
        "        index = self.hash_function(key)\n",
        "        for k, v in self.table[index]:\n",
        "            if k == key:\n",
        "                return v\n",
        "        return None\n",
        "\n",
        "    def remove(self, key):\n",
        "        index = self.hash_function(key)\n",
        "        for i, (k, v) in enumerate(self.table[index]):\n",
        "            if k == key:\n",
        "                del self.table[index][i]\n",
        "                return\n",
        "\n",
        "    def display(self):\n",
        "        for index, bucket in enumerate(self.table):\n",
        "            print(f'Bucket {index}: {bucket}')\n",
        "\n",
        "\n",
        "# Main\n",
        "hash_table = HashTable(10)\n",
        "hash_table.insert('apple', 5)\n",
        "hash_table.insert('banana', 7)\n",
        "hash_table.display()\n",
        "print('Get apple:', hash_table.get('apple'))\n",
        "print('Get orange:', hash_table.get('orange'))\n",
        "hash_table.remove('banana')\n",
        "hash_table.display()\n"
      ],
      "metadata": {
        "colab": {
          "base_uri": "https://localhost:8080/"
        },
        "id": "tZs2lpIkUH0o",
        "outputId": "aa51b0be-1009-4bcf-dfcd-095f0157ccd8"
      },
      "execution_count": 13,
      "outputs": [
        {
          "output_type": "stream",
          "name": "stdout",
          "text": [
            "Bucket 0: []\n",
            "Bucket 1: []\n",
            "Bucket 2: [('apple', 5)]\n",
            "Bucket 3: []\n",
            "Bucket 4: []\n",
            "Bucket 5: [('banana', 7)]\n",
            "Bucket 6: []\n",
            "Bucket 7: []\n",
            "Bucket 8: []\n",
            "Bucket 9: []\n",
            "Get apple: 5\n",
            "Get orange: None\n",
            "Bucket 0: []\n",
            "Bucket 1: []\n",
            "Bucket 2: [('apple', 5)]\n",
            "Bucket 3: []\n",
            "Bucket 4: []\n",
            "Bucket 5: []\n",
            "Bucket 6: []\n",
            "Bucket 7: []\n",
            "Bucket 8: []\n",
            "Bucket 9: []\n"
          ]
        }
      ]
    },
    {
      "cell_type": "code",
      "source": [
        "# linked\n",
        "\n",
        "# define a Node class to represent each element in the linked list\n",
        "class Node:\n",
        "    def __init__(self, data):\n",
        "        self.data = data  # set the data attribute to the input data\n",
        "        self.next = None  # set the next attribute to None by default\n",
        "\n",
        "# define a LinkedList class to represent the linked list\n",
        "class LinkedList:\n",
        "    def __init__(self):\n",
        "        self.head = None  # set the head attribute to None by default\n",
        "\n",
        "    # define an append method to add a new element to the end of the list\n",
        "    def append(self, data):\n",
        "        new_node = Node(data)  # create a new Node object with the input data\n",
        "        if self.head is None:  # check if the list is empty\n",
        "            self.head = new_node  # if yes, set the new node as the head\n",
        "        else:\n",
        "            # if not, traverse the list to the last element and add the new node there\n",
        "            current = self.head  # start from the head\n",
        "            while current.next is not None:  # keep going until the last element\n",
        "                current = current.next\n",
        "            current.next = new_node  # set the next of the last element to the new node\n",
        "\n",
        "    # define a prepend method to add a new element to the beginning of the list\n",
        "    def prepend(self, data):\n",
        "        new_node = Node(data)  # create a new Node object with the input data\n",
        "        new_node.next = self.head  # set the next of the new node to the current head\n",
        "        self.head = new_node  # set the new node as the head\n",
        "\n",
        "    # define an insert_after method to add a new element after a specified element\n",
        "    def insert_after(self, prev_node, data):\n",
        "        if prev_node is None:  # check if the previous node exists\n",
        "            print(\"Previous node is not in the list.\")\n",
        "            return  # if not, print an error message and return\n",
        "        new_node = Node(data)  # create a new Node object with the input data\n",
        "        new_node.next = prev_node.next  # set the next of the new node to the next of the previous node\n",
        "        prev_node.next = new_node  # set the next of the previous node to the new node\n",
        "\n",
        "    # define a delete method to remove the first occurrence of an element with the input data\n",
        "    def delete(self, data):\n",
        "        if self.head is None:  # check if the list is empty\n",
        "            return  # if yes, there's nothing to delete\n",
        "        if self.head.data == data:  # check if the head contains the input data\n",
        "            self.head = self.head.next  # if yes, set the next node as the new head\n",
        "            return\n",
        "        current = self.head  # start from the head\n",
        "        while current.next is not None:  # keep going until the end of the list\n",
        "            if current.next.data == data:  # check if the next element contains the input data\n",
        "                current.next = current.next.next  # if yes, skip over the next node\n",
        "                return\n",
        "            current = current.next  # otherwise, move to the next element\n",
        "\n",
        "    # define a display method to print the elements of the linked list\n",
        "    def display(self):\n",
        "        current = self.head  # start from the head\n",
        "        while current:\n",
        "            print(current.data, end=\" \")  # print the data of the current node\n",
        "            current = current.next  # move to the next node\n",
        "        print()  # print a new line after printing all elements\n",
        "\n",
        "# Example usage:\n",
        "linked_list = LinkedList()\n",
        "linked_list.append(42)\n",
        "linked_list.append(8)\n",
        "linked_list.append(17)\n",
        "linked_list.prepend(10)\n",
        "linked_list.insert_after(linked_list.head, 99)\n",
        "linked_list.delete(8)\n",
        "linked_list.display()\n"
      ],
      "metadata": {
        "colab": {
          "base_uri": "https://localhost:8080/"
        },
        "id": "gEMPPuvOVlAm",
        "outputId": "1e3f6e80-4107-4a5f-839c-7a34214cf99e"
      },
      "execution_count": 3,
      "outputs": [
        {
          "output_type": "stream",
          "name": "stdout",
          "text": [
            "10 99 42 17 \n"
          ]
        }
      ]
    },
    {
      "cell_type": "code",
      "source": [
        "# stack - using OOP\n",
        "class Stack:\n",
        "  def __init__(self):\n",
        "    self.data = []\n",
        "    self.top = -1\n",
        "\n",
        "  def push(self, item):\n",
        "    self.data.append(item)\n",
        "    self.top += 1\n",
        "\n",
        "  def pop(self):\n",
        "    if len(self.data) == 0:\n",
        "      return \"cannot delete from empty stack\"\n",
        "    self.top -= 1\n",
        "    return self.data.pop() #pop in line 10 diff from line 9\n",
        "\n",
        "  def display(self):\n",
        "    print(self.data)\n",
        "\n",
        "# main\n",
        "s = Stack()\n",
        "s.push(5)\n",
        "s.push(7)\n",
        "s.display()\n",
        "print(s.pop())\n",
        "s.display()\n",
        "print(s.pop())\n",
        "print(s.pop())\n",
        "s.display()"
      ],
      "metadata": {
        "id": "abf77zbhmACh",
        "colab": {
          "base_uri": "https://localhost:8080/"
        },
        "outputId": "0e0717fd-1a24-46bd-e631-6cd3b652c166"
      },
      "execution_count": 8,
      "outputs": [
        {
          "output_type": "stream",
          "name": "stdout",
          "text": [
            "[5, 7]\n",
            "7\n",
            "[5]\n",
            "5\n",
            "cannot delete from empty stack\n",
            "[]\n"
          ]
        }
      ]
    },
    {
      "cell_type": "code",
      "source": [
        "# stack - using dynamic array\n",
        "\n",
        "stack = []\n",
        "\n",
        "def push(data): # no need to check if full\n",
        "  stack.append(data)\n",
        "\n",
        "def pop():\n",
        "  if is_empty():\n",
        "    return \"Stack empty\"\n",
        "  else:\n",
        "    item = stack.pop()\n",
        "    return str(item) + \" deleted\"\n",
        "\n",
        "def is_empty():\n",
        "  return len(stack) == 0 # stack == []\n",
        "\n",
        "# main\n",
        "push(1)\n",
        "push(2)\n",
        "push(3)\n",
        "print(stack)\n",
        "print(pop())\n",
        "print(pop())\n",
        "print(pop())\n",
        "print(pop())\n",
        "print(stack)"
      ],
      "metadata": {
        "id": "jhdDqb_q1ZOg"
      },
      "execution_count": null,
      "outputs": []
    },
    {
      "cell_type": "code",
      "source": [
        "# Stack - LIFO\n",
        "def spush(data): # insert\n",
        "  global top\n",
        "  if top == N - 1:   # if full, error\n",
        "    print(\"Cannot insert to full stack\")\n",
        "  else: # else insert\n",
        "    top += 1\n",
        "    stack[top] = data\n",
        "    print(data, \"inserted\")\n",
        "\n",
        "def spop():\n",
        "  global top\n",
        "  if top == -1: # stack[top] == -1, if empty, error\n",
        "    return \"Cannot delete from empty stack\"\n",
        "  else: # delete\n",
        "    item = stack[top]\n",
        "    stack[top] = -1 # optional?\n",
        "    top -= 1\n",
        "    return item\n",
        "\n",
        "# main\n",
        "N = 3\n",
        "stack = [-1 for i in range(N)]\n",
        "top = -1\n",
        "print(stack)\n",
        "spush(123)\n",
        "spush(456)\n",
        "spush(789)\n",
        "spush(000)\n",
        "print(stack)\n",
        "print(spop())\n",
        "print(spop())\n",
        "print(spop())\n",
        "print(spop())\n",
        "print(stack)"
      ],
      "metadata": {
        "colab": {
          "base_uri": "https://localhost:8080/"
        },
        "id": "89o0X3opz54F",
        "outputId": "9df1f12e-b2be-4e35-86ae-29d762c19e6c"
      },
      "execution_count": 7,
      "outputs": [
        {
          "output_type": "stream",
          "name": "stdout",
          "text": [
            "[-1, -1, -1]\n",
            "123 inserted\n",
            "456 inserted\n",
            "789 inserted\n",
            "Cannot insert to full stack\n",
            "[123, 456, 789]\n",
            "789\n",
            "456\n",
            "123\n",
            "Cannot delete from empty stack\n",
            "[-1, -1, -1]\n"
          ]
        }
      ]
    },
    {
      "cell_type": "code",
      "source": [
        "# queue FIFO\n",
        "\n",
        "N = 6\n",
        "queue = [None for i in range(N)] # queue can hold N-1 items\n",
        "front = -1 # index where next item is to be deleted\n",
        "rear = 0 # index where next item is to be inserted\n",
        "\n",
        "def enqueue(item):\n",
        "  global rear, front\n",
        "  if is_full():\n",
        "    print(\"Queue full\")\n",
        "  else: # rear < N - 1\n",
        "    queue[rear] = item\n",
        "    rear = (rear + 1) % N\n",
        "    print(item, \"inserted\")\n",
        "    if is_empty(): # update front when empty queue\n",
        "      front = (front + 1) % N\n",
        "\n",
        "def dequeue():\n",
        "  global front, rear\n",
        "  if is_empty():\n",
        "    return \"Queue empty\"\n",
        "  else:\n",
        "    item = queue[front]\n",
        "    queue[front] = None\n",
        "    front = (front + 1) % N\n",
        "    if rear == front: # last item, reset\n",
        "      front = -1\n",
        "      rear = 0\n",
        "    return str(item) + \" deleted\"\n",
        "\n",
        "def is_full():\n",
        "  return size() == N - 1\n",
        "\n",
        "def is_empty():\n",
        "  return front == -1\n",
        "\n",
        "def size():\n",
        "  if is_empty():\n",
        "    return 0\n",
        "  elif front < rear:\n",
        "    return rear - front\n",
        "  else: # wraparound\n",
        "    return N - (front - rear)\n",
        "\n",
        "# main\n",
        "print(queue, size())\n",
        "enqueue(1)\n",
        "enqueue(2)\n",
        "enqueue(3)\n",
        "enqueue(4)\n",
        "enqueue(5)\n",
        "enqueue(6)\n",
        "print(queue, size())\n",
        "print(dequeue(), size())\n",
        "print(dequeue(), size())\n",
        "print(dequeue(), size())\n",
        "print(queue, size())\n",
        "print(dequeue(), size())\n",
        "print(dequeue(), size())\n",
        "print(dequeue(), size())\n",
        "print(queue, size())"
      ],
      "metadata": {
        "colab": {
          "base_uri": "https://localhost:8080/"
        },
        "id": "2MZ2-cRUVoi6",
        "outputId": "540739e9-40d8-4df4-a2d8-2bac7d09bc07"
      },
      "execution_count": 11,
      "outputs": [
        {
          "output_type": "stream",
          "name": "stdout",
          "text": [
            "[None, None, None, None, None, None] 0\n",
            "1 inserted\n",
            "2 inserted\n",
            "3 inserted\n",
            "4 inserted\n",
            "5 inserted\n",
            "Queue full\n",
            "[1, 2, 3, 4, 5, None] 5\n",
            "1 deleted 4\n",
            "2 deleted 3\n",
            "3 deleted 2\n",
            "[None, None, None, 4, 5, None] 2\n",
            "4 deleted 1\n",
            "5 deleted 0\n",
            "Queue empty 0\n",
            "[None, None, None, None, None, None] 0\n"
          ]
        }
      ]
    },
    {
      "cell_type": "code",
      "source": [
        "# queue - using dynamic array\n",
        "\n",
        "queue = []\n",
        "# insert to end: append\n",
        "# delete from front: remove\n",
        "\n",
        "def enqueue(data):\n",
        "  queue.append(data)\n",
        "\n",
        "def dequeue():\n",
        "  if is_empty():\n",
        "    return \"Queue empty\"\n",
        "  else:\n",
        "    return queue.pop(0)\n",
        "\n",
        "def is_empty():\n",
        "  return len(queue) == 0 # or queue == []\n",
        "\n",
        "def size():\n",
        "  return len(queue)\n",
        "\n",
        "# main\n",
        "enqueue(1)\n",
        "enqueue(2)\n",
        "enqueue(3)\n",
        "print(queue)\n",
        "print(dequeue())\n",
        "print(dequeue())\n",
        "print(dequeue())\n",
        "print(dequeue())\n",
        "print(queue)"
      ],
      "metadata": {
        "colab": {
          "base_uri": "https://localhost:8080/"
        },
        "id": "oKz_lRc11rmr",
        "outputId": "332d6883-a77e-4884-c557-1a3d6be70ce1"
      },
      "execution_count": 10,
      "outputs": [
        {
          "output_type": "stream",
          "name": "stdout",
          "text": [
            "[1, 2, 3]\n",
            "1\n",
            "2\n",
            "3\n",
            "Queue empty\n",
            "[]\n"
          ]
        }
      ]
    },
    {
      "cell_type": "code",
      "source": [
        "# queue using OOP\n",
        "\n",
        "class Queue:\n",
        "    def __init__(self):\n",
        "        self.data = []\n",
        "\n",
        "    def enqueue(self, item):\n",
        "        self.data.append(item)\n",
        "\n",
        "    def dequeue(self):\n",
        "        if len(self.data) == 0:\n",
        "            return \"Cannot dequeue from an empty queue\"\n",
        "        return self.data.pop(0)\n",
        "\n",
        "    def display(self):\n",
        "        print(self.data)\n",
        "\n",
        "\n",
        "# Main\n",
        "q = Queue()\n",
        "q.enqueue(5)\n",
        "q.enqueue(7)\n",
        "q.display()\n",
        "print(q.dequeue())\n",
        "q.display()\n",
        "print(q.dequeue())\n",
        "print(q.dequeue())\n",
        "q.display()\n"
      ],
      "metadata": {
        "colab": {
          "base_uri": "https://localhost:8080/"
        },
        "id": "Jlr4XDMq1xwj",
        "outputId": "1fec8ba9-4413-42d4-f92d-6b9b8fe47175"
      },
      "execution_count": 9,
      "outputs": [
        {
          "output_type": "stream",
          "name": "stdout",
          "text": [
            "[5, 7]\n",
            "5\n",
            "[7]\n",
            "7\n",
            "Cannot dequeue from an empty queue\n",
            "[]\n"
          ]
        }
      ]
    },
    {
      "cell_type": "code",
      "source": [
        "# binary search tree\n",
        "\n",
        "class BST:\n",
        "\n",
        "    def __init__(self, data):\n",
        "        self.data = data\n",
        "        self.left = None\n",
        "        self.right = None\n",
        "\n",
        "    def insert(self, value):\n",
        "        if value < self.data: # comparing with root\n",
        "            if self.left is None: # can insert as left leaf node\n",
        "                self.left = BST(value)\n",
        "            else: # recursively insert to left subtree\n",
        "                self.left.insert(value)\n",
        "        else: # value > self.data\n",
        "            if self.right is None: # can insert as right leaf node\n",
        "                self.right = BST(value)\n",
        "            else: # recursively insert to right subtree\n",
        "                self.right.insert(value)\n",
        "\n",
        "    def search(self, target):\n",
        "        if self.data == target: # success\n",
        "            return \"Found\"\n",
        "        elif self.left is None and self.right is None: # unsuccessful / leaf\n",
        "            return \"Not found\"\n",
        "        elif target < self.data: # go left\n",
        "            if self.left is None: # node with no left child or 1 right child\n",
        "                return \"Not found\"\n",
        "            else: # left subtree exists\n",
        "                return self.left.search(target) # recursive 1 go left\n",
        "        else: # target > self.data: # go right\n",
        "            if self.right is None: # node with no right child or 1 left child\n",
        "                return \"Not found\"\n",
        "            else: # right subtree exists\n",
        "                return self.right.search(target) # recursive 2 go right\n",
        "\n",
        "    def inorder(self): # left root right\n",
        "        if self.left: # recursive 1: go left because left subtree exists\n",
        "            self.left.inorder()\n",
        "        print(self.data, end=' ') # anchor/terminating case\n",
        "        if self.right: # recursive 2: go right because right subtree exists\n",
        "            self.right.inorder()\n",
        "\n",
        "    def preorder(self): # left root right\n",
        "        print(self.data, end=' ') # anchor/terminating case\n",
        "        if self.left: # recursive 1: go left because left subtree exists\n",
        "            self.left.preorder()\n",
        "        if self.right: # recursive 2: go right because right subtree exists\n",
        "            self.right.preorder()\n",
        "\n",
        "    def postorder(self): # left root right\n",
        "        if self.left: # recursive 1: go left because left subtree exists\n",
        "            self.left.postorder()\n",
        "        if self.right: # recursive 2: go right because right subtree exists\n",
        "            self.right.postorder()\n",
        "        print(self.data, end=' ') # anchor/terminating case\n",
        "\n",
        "    def reverse(self): # left root right\n",
        "        if self.right: # recursive 2: go right because right subtree exists\n",
        "            self.right.reverse()\n",
        "        print(self.data, end=' ') # anchor/terminating case\n",
        "        if self.left: # recursive 1: go left because left subtree exists\n",
        "            self.left.reverse()\n",
        "\n",
        "    def minimum(self):\n",
        "        if self.left is None: # leftmost\n",
        "            print(self.data)\n",
        "        else:\n",
        "            self.left.minimum()\n",
        "\n",
        "    def maximum(self):\n",
        "        if self.right is None: # rightmost\n",
        "            print(self.data)\n",
        "        else:\n",
        "            self.right.maximum()\n",
        "\n",
        "# main\n",
        "bst = BST(50)\n",
        "bst.insert(30)\n",
        "bst.insert(80)\n",
        "bst.insert(10)\n",
        "bst.insert(40)\n",
        "bst.insert(90)\n",
        "bst.insert(60)\n",
        "bst.insert(70)\n",
        "bst.inorder()\n",
        "print()\n",
        "print(bst.search(50))\n",
        "print(bst.search(90))\n",
        "print(bst.search(20))\n",
        "bst.preorder()\n",
        "print()\n",
        "bst.postorder()\n",
        "print()\n",
        "bst.reverse()\n",
        "print()\n",
        "bst.minimum()\n",
        "bst.maximum()"
      ],
      "metadata": {
        "colab": {
          "base_uri": "https://localhost:8080/"
        },
        "id": "N8ch7sxIVpf9",
        "outputId": "6df46f7c-adce-4b57-9db9-76f8a66c7a1d"
      },
      "execution_count": 6,
      "outputs": [
        {
          "output_type": "stream",
          "name": "stdout",
          "text": [
            "10 30 40 50 60 70 80 90 \n",
            "Found\n",
            "Found\n",
            "Not found\n",
            "50 30 10 40 80 60 70 90 \n",
            "10 40 30 70 60 90 80 50 \n",
            "90 80 70 60 50 40 30 10 \n",
            "10\n",
            "90\n"
          ]
        }
      ]
    },
    {
      "cell_type": "markdown",
      "metadata": {
        "id": "x9zANyMhVDpv"
      },
      "source": [
        "**Relational database with SQL**\n",
        "theory\n",
        "* normalisation (until 3NF, no repeating groups(PK), functional table, create table for dependent attributes)\n",
        "* ER diagram\n",
        "* table specification\n",
        "practical\n",
        "* create and alter table\n",
        "* CRUD operations (create, read, update, delete)\n",
        "* join\n",
        "* aggregation functions (calculation), SELECT SUM...\n",
        "* Python with SQLite workflow\n",
        "----------\n",
        "* Pk is unique (primary key), should not be changed\n",
        "* Not null (value can be empty)\n",
        "* Auto-increment 1-2-3\n",
        "* Unique (eh handphone number)\n",
        "---------\n",
        "* Text (str)\n",
        "* Blob(binary large object) holding binary file(image, music file) usually if have blob upload somewhere * * else and get the link to store it\n",
        "* Real (float)\n",
        "* Numeric (integer/real)"
      ]
    },
    {
      "cell_type": "code",
      "source": [
        "# Import modules\n",
        "import sqlite3\n",
        "\n",
        "# Connect to database (or create it if it does not exist)\n",
        "conn = sqlite3.connect('example.db')\n",
        "\n",
        "# Create cursor object to interact with the database\n",
        "cur = conn.cursor()\n",
        "\n",
        "# Create table\n",
        "cur.execute('''CREATE TABLE IF NOT EXISTS users\n",
        "               (id INTEGER PRIMARY KEY,\n",
        "               name TEXT,\n",
        "               age INTEGER)''')\n",
        "\n",
        "# Insert data\n",
        "cur.execute(\"INSERT INTO users (name, age) VALUES ('Alice', 30)\")\n",
        "cur.execute(\"INSERT INTO users (name, age) VALUES ('Bob', 25)\")\n",
        "cur.execute(\"INSERT INTO users (name, age) VALUES ('Charlie', 22)\")\n",
        "\n",
        "# display original data\n",
        "print(\"original data\")\n",
        "rows = cur.execute(\"SELECT * FROM users\")\n",
        "for row in rows:\n",
        "    print(row)\n",
        "\n",
        "# Assuming the 'users' table already exists and has data\n",
        "# Update example: Update the age of Alice to 31\n",
        "cur.execute(\"UPDATE users SET age = ? WHERE name = ?\", (31, 'Alice'))\n",
        "conn.commit()\n",
        "\n",
        "# Display updated data\n",
        "print(\"Updated data(age is changed):\")\n",
        "rows = cur.execute(\"SELECT * FROM users\")\n",
        "for row in rows:\n",
        "    print(row)\n",
        "\n",
        "# Delete example: Delete the user named Bob\n",
        "cur.execute(\"DELETE FROM users WHERE name = ?\", ('Bob',))\n",
        "conn.commit()\n",
        "\n",
        "# Display updated data\n",
        "print(\"Updated data(bob is deleted):\")\n",
        "rows = cur.execute(\"SELECT * FROM users\")\n",
        "for row in rows:\n",
        "    print(row)\n",
        "\n",
        "# Commit changes to disk\n",
        "conn.commit()\n",
        "\n",
        "# Query data\n",
        "print(\"query data\")\n",
        "rows = cur.execute(\"SELECT * FROM users\")\n",
        "for row in rows:\n",
        "    print(row)\n",
        "\n",
        "# Close connection\n",
        "conn.close()"
      ],
      "metadata": {
        "colab": {
          "base_uri": "https://localhost:8080/"
        },
        "id": "mvxjGZEx4LH_",
        "outputId": "1fbeb008-a6b6-4037-fadf-c44980e5f227"
      },
      "execution_count": 40,
      "outputs": [
        {
          "output_type": "stream",
          "name": "stdout",
          "text": [
            "original data\n",
            "(1, 'Alice', 30)\n",
            "(2, 'Bob', 25)\n",
            "(3, 'Charlie', 22)\n",
            "Updated data(age is changed):\n",
            "(1, 'Alice', 31)\n",
            "(2, 'Bob', 25)\n",
            "(3, 'Charlie', 22)\n",
            "Updated data(bob is deleted):\n",
            "(1, 'Alice', 31)\n",
            "(3, 'Charlie', 22)\n",
            "lol\n",
            "(1, 'Alice', 31)\n",
            "(3, 'Charlie', 22)\n"
          ]
        }
      ]
    },
    {
      "cell_type": "code",
      "source": [
        "import sqlite3\n",
        "\n",
        "# Connect to the database\n",
        "conn = sqlite3.connect('example.db')\n",
        "cursor = conn.cursor()\n",
        "\n",
        "# Create tables\n",
        "cursor.execute('''CREATE TABLE Customers (\n",
        "                    id INTEGER PRIMARY KEY,\n",
        "                    name TEXT,\n",
        "                    email TEXT)''')\n",
        "\n",
        "cursor.execute('''CREATE TABLE Orders (\n",
        "                    id INTEGER PRIMARY KEY,\n",
        "                    customer_id INTEGER,\n",
        "                    product TEXT,\n",
        "                    price REAL,\n",
        "                    FOREIGN KEY (customer_id) REFERENCES Customers(id))''')\n",
        "\n",
        "# Insert data into tables\n",
        "cursor.execute(\"INSERT INTO Customers (name, email) VALUES (?, ?)\", (\"John Doe\", \"john@example.com\"))\n",
        "cursor.execute(\"INSERT INTO Customers (name, email) VALUES (?, ?)\", (\"Jane Smith\", \"jane@example.com\"))\n",
        "\n",
        "cursor.execute(\"INSERT INTO Orders (customer_id, product, price) VALUES (?, ?, ?)\", (1, \"Product A\", 10.99))\n",
        "cursor.execute(\"INSERT INTO Orders (customer_id, product, price) VALUES (?, ?, ?)\", (1, \"Product B\", 15.99))\n",
        "cursor.execute(\"INSERT INTO Orders (customer_id, product, price) VALUES (?, ?, ?)\", (2, \"Product C\", 5.99))\n",
        "\n",
        "# Retrieve data from tables\n",
        "cursor.execute(\"SELECT * FROM Customers\")\n",
        "print(\"Customers:\")\n",
        "print(cursor.fetchall())\n",
        "\n",
        "cursor.execute(\"SELECT * FROM Orders\")\n",
        "print(\"Orders:\")\n",
        "print(cursor.fetchall())\n",
        "\n",
        "# Update data\n",
        "cursor.execute(\"UPDATE Customers SET email = ? WHERE id = ?\", (\"john.doe@example.com\", 1))\n",
        "\n",
        "# Delete data\n",
        "cursor.execute(\"DELETE FROM Orders WHERE id = ?\", (2,))\n",
        "\n",
        "# Join example\n",
        "cursor.execute('''SELECT Customers.name, Orders.product\n",
        "                    FROM Customers\n",
        "                    INNER JOIN Orders\n",
        "                    ON Customers.id = Orders.customer_id''')\n",
        "print(\"Join result:\")\n",
        "print(cursor.fetchall())\n",
        "\n",
        "# Aggregation example\n",
        "cursor.execute(\"SELECT SUM(price) FROM Orders\")\n",
        "print(\"Total price:\")\n",
        "print(cursor.fetchone()[0])\n",
        "\n",
        "# Commit changes and close connection\n",
        "conn.commit()\n",
        "conn.close()\n"
      ],
      "metadata": {
        "colab": {
          "base_uri": "https://localhost:8080/"
        },
        "id": "17FaF3G7D4zt",
        "outputId": "3f5a0130-ef39-4037-e921-04fb817c6669"
      },
      "execution_count": 4,
      "outputs": [
        {
          "output_type": "stream",
          "name": "stdout",
          "text": [
            "Customers:\n",
            "[(1, 'John Doe', 'john@example.com'), (2, 'Jane Smith', 'jane@example.com')]\n",
            "Orders:\n",
            "[(1, 1, 'Product A', 10.99), (2, 1, 'Product B', 15.99), (3, 2, 'Product C', 5.99)]\n",
            "Join result:\n",
            "[('John Doe', 'Product A'), ('Jane Smith', 'Product C')]\n",
            "Total price:\n",
            "16.98\n"
          ]
        }
      ]
    },
    {
      "cell_type": "code",
      "source": [
        "# students(student_id, name, class, email)\n",
        "# subjects(subject_code, name, level)\n",
        "# student_subject(student_id, subject_code)\n",
        "\n",
        "# Import modules\n",
        "import sqlite3\n",
        "\n",
        "# Connect to database (or create it if it does not exist)\n",
        "conn = sqlite3.connect('school.db')\n",
        "\n",
        "# Create cursor object to interact with the database\n",
        "cur = conn.cursor()\n",
        "\n",
        "# Set up query\n",
        "  # Create table\n",
        "cur.execute('''CREATE TABLE IF NOT EXISTS students (student_id INTEGER PRIMARY KEY,\n",
        "                                      name TEXT NON NULL,\n",
        "                                      classid TEXT,\n",
        "                                      email TEXT UNIQUE)''')\n",
        "cur.execute('''CREATE TABLE IF NOT EXISTS subjects (subject_code TEXT PRIMARY KEY,\n",
        "                                      name TEXT NON NULL,\n",
        "                                      level TEXT)''')\n",
        "cur.execute('''CREATE TABLE IF NOT EXISTS student_subject (student_id INTEGER,\n",
        "                             subject_code TEXT,\n",
        "               PRIMARY KEY (student_id, subject_code))''')\n",
        "\n",
        "  # Insert/Select/Update/Delete data\n",
        "cur.execute(\"\"\"INSERT INTO students (student_id, name, classid, email) VALUES\n",
        "               (1, 'Tom', '24/13', 'tom@test.com');\"\"\")\n",
        "cur.execute(\"\"\"INSERT INTO students (student_id, name, classid, email) VALUES\n",
        "               (2, 'Mary', '24/13', 'mary@test.com');\"\"\")\n",
        "cur.execute(\"\"\"INSERT INTO students (student_id, name, classid, email) VALUES\n",
        "               (3, 'Ali', '24/13', 'ali@test.com');\"\"\")\n",
        "\n",
        "cur.execute(\"\"\"INSERT INTO subjects (subject_code, name, level) VALUES\n",
        "               ('8807', 'General Paper', 'H1');\"\"\")\n",
        "cur.execute(\"\"\"INSERT INTO subjects (subject_code, name, level) VALUES\n",
        "               ('8808', 'Project Work', 'H1');\"\"\")\n",
        "cur.execute(\"\"\"INSERT INTO subjects (subject_code, name, level) VALUES\n",
        "               ('9758', 'Mathematics', 'H2');\"\"\")\n",
        "\n",
        "cur.execute(\"\"\"INSERT INTO student_subject (student_id, subject_code) VALUES\n",
        "               (1, '8807');\"\"\")\n",
        "cur.execute(\"\"\"INSERT INTO student_subject (student_id, subject_code) VALUES\n",
        "               (1, '8808');\"\"\")\n",
        "cur.execute(\"\"\"INSERT INTO student_subject (student_id, subject_code) VALUES\n",
        "               (1, '9758');\"\"\")\n",
        "cur.execute(\"\"\"INSERT INTO student_subject (student_id, subject_code) VALUES\n",
        "               (2, '8807');\"\"\")\n",
        "cur.execute(\"\"\"INSERT INTO student_subject (student_id, subject_code) VALUES\n",
        "               (2, '8808');\"\"\")\n",
        "cur.execute(\"\"\"INSERT INTO student_subject (student_id, subject_code) VALUES\n",
        "               (2, '9758');\"\"\")\n",
        "\n",
        "# Display (updated) data\n",
        "rows = cur.execute(\"\"\"SELECT a.student_id, b.name, a.subject_code, c.name\n",
        "                      FROM student_subject as a, students as b, subjects as c\n",
        "                      WHERE a.student_id=b.student_id AND a.subject_code=c.subject_code;\"\"\")\n",
        "\n",
        "# Commit changes to disk\n",
        "conn.commit()\n",
        "\n",
        "# Query data\n",
        "for row in rows:\n",
        "  print(row)\n",
        "\n",
        "# Close connection\n",
        "conn.close()"
      ],
      "metadata": {
        "colab": {
          "base_uri": "https://localhost:8080/"
        },
        "id": "4SRfSfFQCEJd",
        "outputId": "4febaa2b-ebc4-4fc3-cc9f-a3293b22b357"
      },
      "execution_count": 44,
      "outputs": [
        {
          "output_type": "stream",
          "name": "stdout",
          "text": [
            "(1, 'Tom', '8807', 'General Paper')\n",
            "(1, 'Tom', '8808', 'Project Work')\n",
            "(1, 'Tom', '9758', 'Mathematics')\n",
            "(2, 'Mary', '8807', 'General Paper')\n",
            "(2, 'Mary', '8808', 'Project Work')\n",
            "(2, 'Mary', '9758', 'Mathematics')\n"
          ]
        }
      ]
    },
    {
      "cell_type": "code",
      "source": [
        "import sqlite3\n",
        "\n",
        "# Connect to the database\n",
        "conn = sqlite3.connect('Business.db')\n",
        "cursor = conn.cursor() # point to one record at a time, excute property of cursor\n",
        "\n",
        "# Execute SQL statements\n",
        "# cursor.execute(\"CREATE TABLE employees (id INT, name TEXT)\")\n",
        "# cursor.execute(\"INSERT INTO employees VALUES (1, 'John')\")\n",
        "# cursor.execute(\"SELECT * FROM employees\")\n",
        "# result = cursor.fetchall()\n",
        "cursor.execute(\"INSERT INTO orders (cid, pid, order_date, quantity) VALUES (5, 2, '2023-05-29', 3)\")\n",
        "conn.commit() # make changes saved into file\n",
        "cursor.execute(\"SELECT * FROM orders\")\n",
        "result = cursor.fetchall()\n",
        "print(result)\n",
        "\n",
        "# Close the connection\n",
        "conn.close()\n"
      ],
      "metadata": {
        "colab": {
          "base_uri": "https://localhost:8080/"
        },
        "id": "R9NxoDwGDnPo",
        "outputId": "26b287cd-b068-42e5-f2c9-d0f9aeb7498a"
      },
      "execution_count": 49,
      "outputs": [
        {
          "output_type": "stream",
          "name": "stdout",
          "text": [
            "[(4, 2, \"'2023-05-29'\", 1), (5, 3, \"'2023-05-29'\", 2), (4, 3, \"'2023-05-29'\", 3), (5, 2, '2023-05-29', 3)]\n"
          ]
        }
      ]
    },
    {
      "cell_type": "code",
      "source": [
        "# products (pid, name, unit_price)\n",
        "# customers (cid, name, email)\n",
        "# orders(cid, pid, quantity, purchase_date)\n",
        "\n",
        "CREATE TABLE products(pid INTEGER PRIMARY KEY,\n",
        "                      name TEXT NOT NULL,\n",
        "                      unit_price REAL);\n",
        "\n",
        "CREATE TABLE customers(cid INTEGER PRIMARY KEY,\n",
        "                       name TEXT NOT NULL,\n",
        "                       email TEXT UNIQUE);\n",
        "\n",
        "CREATE TABLE orders(cid INTEGER,\n",
        "                    pid INTEGER,\n",
        "                    quantity INTEGER,\n",
        "                    purchase_date TEXT,\n",
        "                    PRIMARY KEY(cid, pid, purchase_date));"
      ],
      "metadata": {
        "id": "vkJZV1flBu3v"
      },
      "execution_count": null,
      "outputs": []
    },
    {
      "cell_type": "markdown",
      "metadata": {
        "id": "AxjT1QKGVQrF"
      },
      "source": [
        "That's all we know (for now) :)"
      ]
    }
  ],
  "metadata": {
    "colab": {
      "provenance": [],
      "include_colab_link": true
    },
    "kernelspec": {
      "display_name": "Python 3",
      "name": "python3"
    },
    "language_info": {
      "name": "python"
    }
  },
  "nbformat": 4,
  "nbformat_minor": 0
}